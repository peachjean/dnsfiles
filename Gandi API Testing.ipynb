{
 "metadata": {
  "name": "",
  "signature": "sha256:4c286aaf10ae002b5851415c35db200291e7a0faa63fa50c87cd9357a61ad9ec"
 },
 "nbformat": 3,
 "nbformat_minor": 0,
 "worksheets": [
  {
   "cells": [
    {
     "cell_type": "code",
     "collapsed": false,
     "input": [
      "import os\n",
      "\n",
      "apikey = os.environ['GANDI_API_KEY']\n",
      "if not apikey:\n",
      "    raise \"api key NOT available\""
     ],
     "language": "python",
     "metadata": {},
     "outputs": [],
     "prompt_number": 92
    },
    {
     "cell_type": "code",
     "collapsed": false,
     "input": [
      "import xmlrpc.client as rpc\n",
      "#api = rpc.ServerProxy('https://rpc.gandi.net/xmlrpc/')\n",
      "api = rpc.ServerProxy('https://rpc.ote.gandi.net/xmlrpc/')\n",
      "version = api.version.info(apikey)\n"
     ],
     "language": "python",
     "metadata": {},
     "outputs": [],
     "prompt_number": 8
    },
    {
     "cell_type": "code",
     "collapsed": false,
     "input": [
      "print(version)"
     ],
     "language": "python",
     "metadata": {},
     "outputs": [
      {
       "output_type": "stream",
       "stream": "stdout",
       "text": [
        "{'api_version': '3.3.24'}\n"
       ]
      }
     ],
     "prompt_number": 9
    },
    {
     "cell_type": "code",
     "collapsed": false,
     "input": [
      "api.domain.list(apikey)"
     ],
     "language": "python",
     "metadata": {},
     "outputs": [
      {
       "metadata": {},
       "output_type": "pyout",
       "prompt_number": 96,
       "text": [
        "[]"
       ]
      }
     ],
     "prompt_number": 96
    },
    {
     "cell_type": "code",
     "collapsed": false,
     "input": [
      "api.domain.available(apikey, ['bunting.io'])"
     ],
     "language": "python",
     "metadata": {},
     "outputs": [
      {
       "metadata": {},
       "output_type": "pyout",
       "prompt_number": 94,
       "text": [
        "{'bunting.io': 'pending'}"
       ]
      }
     ],
     "prompt_number": 94
    },
    {
     "cell_type": "code",
     "collapsed": false,
     "input": [
      "api.contact.list(apikey)\n",
      "api.contact.info(apikey)"
     ],
     "language": "python",
     "metadata": {},
     "outputs": [
      {
       "metadata": {},
       "output_type": "pyout",
       "prompt_number": 18,
       "text": [
        "{'email': 'jared.bunting@peachjean.com',\n",
        " 'bu': {'id': 3, 'name': 'Gandi US Inc'},\n",
        " 'mail_obfuscated': 0,\n",
        " 'country': 'US',\n",
        " 'id': 79990,\n",
        " 'type': 0,\n",
        " 'given': 'Jared',\n",
        " 'family': 'Bunting',\n",
        " 'shippingaddress': {},\n",
        " 'security_question_answer': '',\n",
        " 'mobile': None,\n",
        " 'is_corporate': False,\n",
        " 'state': None,\n",
        " 'handle': 'JB174-GANDI',\n",
        " 'zip': '37214',\n",
        " 'community': False,\n",
        " 'fax': None,\n",
        " 'city': 'Nashville',\n",
        " 'vat_number': None,\n",
        " 'data_obfuscated': 0,\n",
        " 'lang': 'en',\n",
        " 'security_question_num': 0,\n",
        " 'newsletter': 0,\n",
        " 'phone': '+1.6155090726',\n",
        " 'validation': 'none',\n",
        " 'third_part_resell': 0,\n",
        " 'extra_parameters': {'birth_country': '',\n",
        "  'birth_city': '',\n",
        "  'birth_date': '',\n",
        "  'birth_department': ''},\n",
        " 'reachability': 'none',\n",
        " 'streetaddr': '2913 Riverbend Drive'}"
       ]
      }
     ],
     "prompt_number": 18
    },
    {
     "cell_type": "code",
     "collapsed": false,
     "input": [
      "association_spec = {\n",
      "  'domain': 'bunting.io',\n",
      "  'owner': True,\n",
      "  'admin': True\n",
      "}\n",
      "api.contact.can_associate_domain(apikey, \"JB174-GANDI\", association_spec)"
     ],
     "language": "python",
     "metadata": {},
     "outputs": [
      {
       "metadata": {},
       "output_type": "pyout",
       "prompt_number": 19,
       "text": [
        "True"
       ]
      }
     ],
     "prompt_number": 19
    },
    {
     "cell_type": "code",
     "collapsed": false,
     "input": [
      "domain_spec = {\n",
      "  'owner': \"JB174-GANDI\",\n",
      "  'admin': \"JB174-GANDI\",\n",
      "  'bill': \"JB174-GANDI\",\n",
      "  'tech': \"JB174-GANDI\",\n",
      "  'nameservers': ['a.dns.gandi-ote.net', 'b.dns.gandi-ote.net',\n",
      "                  'c.dns.gandi-ote.net'],\n",
      "  'duration': 1\n",
      "}\n",
      "op = api.domain.create(apikey, 'bunting.io', domain_spec)"
     ],
     "language": "python",
     "metadata": {},
     "outputs": [],
     "prompt_number": 20
    },
    {
     "cell_type": "code",
     "collapsed": false,
     "input": [
      "op = api.operation.info(apikey, op['id'])\n",
      "print(op)\n",
      "print(op['step'])"
     ],
     "language": "python",
     "metadata": {},
     "outputs": [
      {
       "output_type": "stream",
       "stream": "stdout",
       "text": [
        "{'last_error': None, 'type': 'domain_create', 'params': {'domain': 'bunting.io', 'owner': 'JB174-GANDI', 'tld_phase': 'golive', 'ns': ['a.dns.gandi-ote.net', 'b.dns.gandi-ote.net', 'c.dns.gandi-ote.net'], 'tld': 'io', 'tracker_id': 'b3b090df-197a-4c19-ba21-670218f43967', 'remote_addr': '99.5.88.198', 'tech': 'JB174-GANDI', 'duration': 1, 'admin': 'JB174-GANDI', 'accept_contract': True, 'auth_id': 80284, 'param_type': 'domain', 'bill': 'JB174-GANDI'}, 'id': 177519, 'source': 'JB174-GANDI', 'session_id': 80284, 'date_updated': <DateTime '20141231T16:27:10' at 7f799d1980f0>, 'step': 'BILL', 'eta': 0, 'infos': {'product_name': 'io', 'label': 'bunting.io', 'product_type': 'domain', 'product_action': 'create', 'id': '', 'quantity': '', 'extras': {}}, 'errortype': None, 'date_created': <DateTime '20141231T16:27:09' at 7f799d1ae5f8>, 'date_start': None}\n",
        "BILL\n"
       ]
      },
      {
       "ename": "KeyError",
       "evalue": "'zone'",
       "output_type": "pyerr",
       "traceback": [
        "\u001b[1;31m---------------------------------------------------------------------------\u001b[0m\n\u001b[1;31mKeyError\u001b[0m                                  Traceback (most recent call last)",
        "\u001b[1;32m<ipython-input-93-bf9bfb120c6d>\u001b[0m in \u001b[0;36m<module>\u001b[1;34m()\u001b[0m\n\u001b[0;32m      2\u001b[0m \u001b[0mprint\u001b[0m\u001b[1;33m(\u001b[0m\u001b[0mop\u001b[0m\u001b[1;33m)\u001b[0m\u001b[1;33m\u001b[0m\u001b[0m\n\u001b[0;32m      3\u001b[0m \u001b[0mprint\u001b[0m\u001b[1;33m(\u001b[0m\u001b[0mop\u001b[0m\u001b[1;33m[\u001b[0m\u001b[1;34m'step'\u001b[0m\u001b[1;33m]\u001b[0m\u001b[1;33m)\u001b[0m\u001b[1;33m\u001b[0m\u001b[0m\n\u001b[1;32m----> 4\u001b[1;33m \u001b[0mprint\u001b[0m\u001b[1;33m(\u001b[0m\u001b[0mop\u001b[0m\u001b[1;33m[\u001b[0m\u001b[1;34m'zone'\u001b[0m\u001b[1;33m]\u001b[0m\u001b[1;33m)\u001b[0m\u001b[1;33m\u001b[0m\u001b[0m\n\u001b[0m",
        "\u001b[1;31mKeyError\u001b[0m: 'zone'"
       ]
      }
     ],
     "prompt_number": 93
    },
    {
     "cell_type": "code",
     "collapsed": false,
     "input": [
      "api.domain.zone.list(apikey)"
     ],
     "language": "python",
     "metadata": {},
     "outputs": [
      {
       "metadata": {},
       "output_type": "pyout",
       "prompt_number": 49,
       "text": [
        "[{'version': 1,\n",
        "  'name': 'Default Gandi zone file',\n",
        "  'id': 115553,\n",
        "  'date_updated': <DateTime '20110705T14:12:19' at 7f799d198f60>,\n",
        "  'public': True},\n",
        " {'version': 1,\n",
        "  'name': 'Default Gandi zone file',\n",
        "  'id': 681838,\n",
        "  'date_updated': <DateTime '20121030T16:31:53' at 7f799d1a2160>,\n",
        "  'public': True},\n",
        " {'version': 1,\n",
        "  'name': 'Default .fi zone file',\n",
        "  'id': 681999,\n",
        "  'date_updated': <DateTime '20130524T17:44:59' at 7f799d1a2278>,\n",
        "  'public': True},\n",
        " {'version': 1,\n",
        "  'name': 'Default .hu zone file',\n",
        "  'id': 682000,\n",
        "  'date_updated': <DateTime '20130524T17:44:59' at 7f799d1a2390>,\n",
        "  'public': True},\n",
        " {'version': 1,\n",
        "  'name': 'Default Gandi zone file (1)',\n",
        "  'id': 682337,\n",
        "  'date_updated': <DateTime '20141231T18:10:56' at 7f799d1a24a8>,\n",
        "  'public': False}]"
       ]
      }
     ],
     "prompt_number": 49
    },
    {
     "cell_type": "code",
     "collapsed": false,
     "input": [
      "[ x for x in api.system.listMethods() if x.startswith(\"domain.zone\") ]"
     ],
     "language": "python",
     "metadata": {},
     "outputs": [
      {
       "metadata": {},
       "output_type": "pyout",
       "prompt_number": 46,
       "text": [
        "['domain.zone.clone',\n",
        " 'domain.zone.count',\n",
        " 'domain.zone.create',\n",
        " 'domain.zone.delete',\n",
        " 'domain.zone.info',\n",
        " 'domain.zone.list',\n",
        " 'domain.zone.record.add',\n",
        " 'domain.zone.record.count',\n",
        " 'domain.zone.record.delete',\n",
        " 'domain.zone.record.list',\n",
        " 'domain.zone.record.set',\n",
        " 'domain.zone.record.update',\n",
        " 'domain.zone.set',\n",
        " 'domain.zone.update',\n",
        " 'domain.zone.version.count',\n",
        " 'domain.zone.version.delete',\n",
        " 'domain.zone.version.list',\n",
        " 'domain.zone.version.new',\n",
        " 'domain.zone.version.set']"
       ]
      }
     ],
     "prompt_number": 46
    },
    {
     "cell_type": "code",
     "collapsed": false,
     "input": [
      "zone_id = 682337"
     ],
     "language": "python",
     "metadata": {},
     "outputs": [],
     "prompt_number": 57
    },
    {
     "cell_type": "code",
     "collapsed": false,
     "input": [
      "api.domain.zone.info(apikey, zone_id)"
     ],
     "language": "python",
     "metadata": {},
     "outputs": [
      {
       "metadata": {},
       "output_type": "pyout",
       "prompt_number": 76,
       "text": [
        "{'owner': 'JB174-GANDI',\n",
        " 'versions': [1, 2],\n",
        " 'version': 2,\n",
        " 'name': 'test_zone_1',\n",
        " 'id': 682337,\n",
        " 'date_updated': <DateTime '20141231T18:26:09' at 7f799d1ab7f0>,\n",
        " 'domains': 0,\n",
        " 'public': False}"
       ]
      }
     ],
     "prompt_number": 76
    },
    {
     "cell_type": "code",
     "collapsed": false,
     "input": [
      "api.domain.zone.version.list(apikey, zone_id)"
     ],
     "language": "python",
     "metadata": {},
     "outputs": [
      {
       "metadata": {},
       "output_type": "pyout",
       "prompt_number": 75,
       "text": [
        "[{'id': 1, 'date_created': <DateTime '20141231T18:10:56' at 7f799d1ab3c8>},\n",
        " {'id': 2, 'date_created': <DateTime '20141231T18:19:19' at 7f799d1ab470>}]"
       ]
      }
     ],
     "prompt_number": 75
    },
    {
     "cell_type": "code",
     "collapsed": false,
     "input": [
      "api.domain.zone.version.set(apikey, zone_id, 2)"
     ],
     "language": "python",
     "metadata": {},
     "outputs": [
      {
       "metadata": {},
       "output_type": "pyout",
       "prompt_number": 73,
       "text": [
        "True"
       ]
      }
     ],
     "prompt_number": 73
    },
    {
     "cell_type": "code",
     "collapsed": false,
     "input": [
      "#api.system.methodHelp(\"domain.zone.record.list\")\n",
      "api.domain.zone.record.list(apikey, zone_id, 1)"
     ],
     "language": "python",
     "metadata": {},
     "outputs": [
      {
       "metadata": {},
       "output_type": "pyout",
       "prompt_number": 63,
       "text": [
        "[{'id': 3597969,\n",
        "  'type': 'A',\n",
        "  'ttl': 10800,\n",
        "  'name': '@',\n",
        "  'value': '217.70.184.38'},\n",
        " {'id': 3597964,\n",
        "  'type': 'CNAME',\n",
        "  'ttl': 10800,\n",
        "  'name': 'blog',\n",
        "  'value': 'blogs.vip.gandi.net.'},\n",
        " {'id': 3597967,\n",
        "  'type': 'CNAME',\n",
        "  'ttl': 10800,\n",
        "  'name': 'imap',\n",
        "  'value': 'access.mail.gandi.net.'},\n",
        " {'id': 3597963,\n",
        "  'type': 'CNAME',\n",
        "  'ttl': 10800,\n",
        "  'name': 'pop',\n",
        "  'value': 'access.mail.gandi.net.'},\n",
        " {'id': 3597966,\n",
        "  'type': 'CNAME',\n",
        "  'ttl': 10800,\n",
        "  'name': 'smtp',\n",
        "  'value': 'relay.mail.gandi.net.'},\n",
        " {'id': 3597965,\n",
        "  'type': 'CNAME',\n",
        "  'ttl': 10800,\n",
        "  'name': 'webmail',\n",
        "  'value': 'agent.mail.gandi.net.'},\n",
        " {'id': 3597968,\n",
        "  'type': 'CNAME',\n",
        "  'ttl': 10800,\n",
        "  'name': 'www',\n",
        "  'value': 'webredir.vip.gandi.net.'},\n",
        " {'id': 3597971,\n",
        "  'type': 'MX',\n",
        "  'ttl': 10800,\n",
        "  'name': '@',\n",
        "  'value': '50 fb.mail.gandi.net.'},\n",
        " {'id': 3597970,\n",
        "  'type': 'MX',\n",
        "  'ttl': 10800,\n",
        "  'name': '@',\n",
        "  'value': '10 spool.mail.gandi.net.'}]"
       ]
      }
     ],
     "prompt_number": 63
    },
    {
     "cell_type": "code",
     "collapsed": false,
     "input": [
      "new_version = api.domain.zone.version.new(apikey, zone_id)"
     ],
     "language": "python",
     "metadata": {},
     "outputs": [],
     "prompt_number": 79
    },
    {
     "cell_type": "code",
     "collapsed": false,
     "input": [
      "new_version"
     ],
     "language": "python",
     "metadata": {},
     "outputs": [
      {
       "metadata": {},
       "output_type": "pyout",
       "prompt_number": 80,
       "text": [
        "3"
       ]
      }
     ],
     "prompt_number": 80
    },
    {
     "cell_type": "code",
     "collapsed": false,
     "input": [
      "api.domain.zone.record.list(apikey, zone_id, new_version)"
     ],
     "language": "python",
     "metadata": {},
     "outputs": [
      {
       "metadata": {},
       "output_type": "pyout",
       "prompt_number": 67,
       "text": [
        "[{'id': 3597982,\n",
        "  'type': 'A',\n",
        "  'ttl': 10800,\n",
        "  'name': '@',\n",
        "  'value': '217.70.184.38'},\n",
        " {'id': 3597977,\n",
        "  'type': 'CNAME',\n",
        "  'ttl': 10800,\n",
        "  'name': 'blog',\n",
        "  'value': 'blogs.vip.gandi.net.'},\n",
        " {'id': 3597980,\n",
        "  'type': 'CNAME',\n",
        "  'ttl': 10800,\n",
        "  'name': 'imap',\n",
        "  'value': 'access.mail.gandi.net.'},\n",
        " {'id': 3597976,\n",
        "  'type': 'CNAME',\n",
        "  'ttl': 10800,\n",
        "  'name': 'pop',\n",
        "  'value': 'access.mail.gandi.net.'},\n",
        " {'id': 3597979,\n",
        "  'type': 'CNAME',\n",
        "  'ttl': 10800,\n",
        "  'name': 'smtp',\n",
        "  'value': 'relay.mail.gandi.net.'},\n",
        " {'id': 3597978,\n",
        "  'type': 'CNAME',\n",
        "  'ttl': 10800,\n",
        "  'name': 'webmail',\n",
        "  'value': 'agent.mail.gandi.net.'},\n",
        " {'id': 3597981,\n",
        "  'type': 'CNAME',\n",
        "  'ttl': 10800,\n",
        "  'name': 'www',\n",
        "  'value': 'webredir.vip.gandi.net.'},\n",
        " {'id': 3597984,\n",
        "  'type': 'MX',\n",
        "  'ttl': 10800,\n",
        "  'name': '@',\n",
        "  'value': '50 fb.mail.gandi.net.'},\n",
        " {'id': 3597983,\n",
        "  'type': 'MX',\n",
        "  'ttl': 10800,\n",
        "  'name': '@',\n",
        "  'value': '10 spool.mail.gandi.net.'},\n",
        " {'id': 3597989,\n",
        "  'type': 'TXT',\n",
        "  'ttl': 10800,\n",
        "  'name': '@',\n",
        "  'value': '\"jared is testing things\"'}]"
       ]
      }
     ],
     "prompt_number": 67
    },
    {
     "cell_type": "code",
     "collapsed": false,
     "input": [
      "api.domain.zone.record.add(apikey, zone_id, new_version, {'name': '@', 'type': 'TXT', 'ttl': 10800, 'value': 'jared is testing things ' + str(new_version)})"
     ],
     "language": "python",
     "metadata": {},
     "outputs": [
      {
       "metadata": {},
       "output_type": "pyout",
       "prompt_number": 82,
       "text": [
        "{'id': 3598004,\n",
        " 'type': 'TXT',\n",
        " 'ttl': 10800,\n",
        " 'name': '@',\n",
        " 'value': '\"jared is testing things 3\"'}"
       ]
      }
     ],
     "prompt_number": 82
    },
    {
     "cell_type": "code",
     "collapsed": false,
     "input": [
      "api.domain.zone.version.set(apikey, zone_id, new_version)"
     ],
     "language": "python",
     "metadata": {},
     "outputs": [
      {
       "metadata": {},
       "output_type": "pyout",
       "prompt_number": 84,
       "text": [
        "True"
       ]
      }
     ],
     "prompt_number": 84
    },
    {
     "cell_type": "code",
     "collapsed": false,
     "input": [
      "api.domain.zone.record.list(apikey, zone_id, new_version)"
     ],
     "language": "python",
     "metadata": {},
     "outputs": [
      {
       "metadata": {},
       "output_type": "pyout",
       "prompt_number": 83,
       "text": [
        "[{'id': 3597996,\n",
        "  'type': 'A',\n",
        "  'ttl': 10800,\n",
        "  'name': '@',\n",
        "  'value': '217.70.184.38'},\n",
        " {'id': 3597991,\n",
        "  'type': 'CNAME',\n",
        "  'ttl': 10800,\n",
        "  'name': 'blog',\n",
        "  'value': 'blogs.vip.gandi.net.'},\n",
        " {'id': 3597994,\n",
        "  'type': 'CNAME',\n",
        "  'ttl': 10800,\n",
        "  'name': 'imap',\n",
        "  'value': 'access.mail.gandi.net.'},\n",
        " {'id': 3597990,\n",
        "  'type': 'CNAME',\n",
        "  'ttl': 10800,\n",
        "  'name': 'pop',\n",
        "  'value': 'access.mail.gandi.net.'},\n",
        " {'id': 3597993,\n",
        "  'type': 'CNAME',\n",
        "  'ttl': 10800,\n",
        "  'name': 'smtp',\n",
        "  'value': 'relay.mail.gandi.net.'},\n",
        " {'id': 3597992,\n",
        "  'type': 'CNAME',\n",
        "  'ttl': 10800,\n",
        "  'name': 'webmail',\n",
        "  'value': 'agent.mail.gandi.net.'},\n",
        " {'id': 3597995,\n",
        "  'type': 'CNAME',\n",
        "  'ttl': 10800,\n",
        "  'name': 'www',\n",
        "  'value': 'webredir.vip.gandi.net.'},\n",
        " {'id': 3597998,\n",
        "  'type': 'MX',\n",
        "  'ttl': 10800,\n",
        "  'name': '@',\n",
        "  'value': '50 fb.mail.gandi.net.'},\n",
        " {'id': 3597997,\n",
        "  'type': 'MX',\n",
        "  'ttl': 10800,\n",
        "  'name': '@',\n",
        "  'value': '10 spool.mail.gandi.net.'},\n",
        " {'id': 3598004,\n",
        "  'type': 'TXT',\n",
        "  'ttl': 10800,\n",
        "  'name': '@',\n",
        "  'value': '\"jared is testing things 3\"'},\n",
        " {'id': 3598003,\n",
        "  'type': 'TXT',\n",
        "  'ttl': 10800,\n",
        "  'name': '@',\n",
        "  'value': '\"jared is testing things\"'}]"
       ]
      }
     ],
     "prompt_number": 83
    },
    {
     "cell_type": "code",
     "collapsed": false,
     "input": [
      "api.domain.zone.create(apikey, {'name': 'jtest2'})"
     ],
     "language": "python",
     "metadata": {},
     "outputs": [
      {
       "metadata": {},
       "output_type": "pyout",
       "prompt_number": 85,
       "text": [
        "{'owner': 'JB174-GANDI',\n",
        " 'versions': [1],\n",
        " 'version': 1,\n",
        " 'name': 'jtest2',\n",
        " 'id': 682338,\n",
        " 'date_updated': <DateTime '20141231T18:43:46' at 7f79a405e240>,\n",
        " 'domains': 0,\n",
        " 'public': False}"
       ]
      }
     ],
     "prompt_number": 85
    },
    {
     "cell_type": "code",
     "collapsed": false,
     "input": [
      "zone_id2 = 682338"
     ],
     "language": "python",
     "metadata": {},
     "outputs": [],
     "prompt_number": 87
    },
    {
     "cell_type": "code",
     "collapsed": false,
     "input": [
      "api.domain.zone.version.list(apikey, zone_id2)"
     ],
     "language": "python",
     "metadata": {},
     "outputs": [
      {
       "metadata": {},
       "output_type": "pyout",
       "prompt_number": 88,
       "text": [
        "[{'id': 1, 'date_created': <DateTime '20141231T18:43:46' at 7f79a405e198>}]"
       ]
      }
     ],
     "prompt_number": 88
    },
    {
     "cell_type": "code",
     "collapsed": false,
     "input": [
      "api.domain.zone.record.list(apikey, zone_id2, 1)"
     ],
     "language": "python",
     "metadata": {},
     "outputs": [
      {
       "metadata": {},
       "output_type": "pyout",
       "prompt_number": 91,
       "text": [
        "[]"
       ]
      }
     ],
     "prompt_number": 91
    },
    {
     "cell_type": "code",
     "collapsed": false,
     "input": [],
     "language": "python",
     "metadata": {},
     "outputs": []
    }
   ],
   "metadata": {}
  }
 ]
}
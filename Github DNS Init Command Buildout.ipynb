{
 "metadata": {
  "name": "",
  "signature": "sha256:f891cb558683c49364fbe4bdaf874b3e1301daf19ff42a56e92f1fefd70c5ed8"
 },
 "nbformat": 3,
 "nbformat_minor": 0,
 "worksheets": [
  {
   "cells": [
    {
     "cell_type": "code",
     "collapsed": false,
     "input": [
      "import os\n",
      "\n",
      "apikey = os.environ['GANDI_API_KEY']\n",
      "if not apikey:\n",
      "    raise \"api key NOT available\""
     ],
     "language": "python",
     "metadata": {},
     "outputs": [],
     "prompt_number": 2
    },
    {
     "cell_type": "code",
     "collapsed": false,
     "input": [
      "import xmlrpc.client as rpc\n",
      "#api = rpc.ServerProxy('https://rpc.gandi.net/xmlrpc/')\n",
      "api = rpc.ServerProxy('https://rpc.ote.gandi.net/xmlrpc/')\n",
      "api.account.info(apikey)\n"
     ],
     "language": "python",
     "metadata": {},
     "outputs": [
      {
       "metadata": {},
       "output_type": "pyout",
       "prompt_number": 26,
       "text": [
        "{'credits': None,\n",
        " 'date_credits_expiration': None,\n",
        " 'products': None,\n",
        " 'rating_enabled': True,\n",
        " 'fullname': 'Jared BUNTING',\n",
        " 'average_credit_cost': None,\n",
        " 'handle': 'JB174-GANDI',\n",
        " 'id': 7163,\n",
        " 'resources': {'available': None,\n",
        "  'expired': None,\n",
        "  'granted': None,\n",
        "  'used': None},\n",
        " 'share_definition': None,\n",
        " 'cycle_day': 1}"
       ]
      }
     ],
     "prompt_number": 26
    },
    {
     "cell_type": "code",
     "collapsed": false,
     "input": [
      "[ x for x in api.system.listMethods() if x.startswith(\"\") ]\n",
      "try:\n",
      "    api.account.info(\"blahblah\")\n",
      "except rpc.Fault:\n",
      "    print(\"Failed...\")"
     ],
     "language": "python",
     "metadata": {},
     "outputs": [
      {
       "output_type": "stream",
       "stream": "stdout",
       "text": [
        "Failed...\n"
       ]
      }
     ],
     "prompt_number": 29
    },
    {
     "cell_type": "code",
     "collapsed": false,
     "input": [
      "def gandi_record_to_ghdns(record):\n",
      "    return { 'name': record['name'],\n",
      "             'type': record['type'],\n",
      "             'value': record['value'],\n",
      "             'ttl': record['ttl'],\n",
      "           }"
     ],
     "language": "python",
     "metadata": {},
     "outputs": [],
     "prompt_number": 11
    },
    {
     "cell_type": "code",
     "collapsed": false,
     "input": [
      "import yaml\n",
      "\n",
      "def init_zone_files(rpc, apikey, basedir):\n",
      "    os.makedirs(os.path.join(basedir, \"zones\"))\n",
      "    \n",
      "    zones = rpc.domain.zone.list(apikey)\n",
      "    for zone in zones:\n",
      "        if not zone['public']:\n",
      "            zone_id = zone['id']\n",
      "            name = zone['name']\n",
      "            records = rpc.domain.zone.record.list(apikey, zone_id, zone['version'])\n",
      "            records = [ gandi_record_to_ghdns(r) for r in records]\n",
      "            filename = \"zones/%s.yml\" % name\n",
      "            with open(filename, \"w\") as f:\n",
      "                f.write(yaml.dump(records, default_flow_style=False))\n",
      "            print(\"Wrote out zone file: \", filename)\n",
      "        "
     ],
     "language": "python",
     "metadata": {},
     "outputs": [],
     "prompt_number": 23
    }
   ],
   "metadata": {}
  }
 ]
}
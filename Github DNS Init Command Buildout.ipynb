{
 "metadata": {
  "name": "",
  "signature": "sha256:e3ba4b9f231efcc1311cca5600c2b3913aa116eb4d6a25eae3337e52a386d635"
 },
 "nbformat": 3,
 "nbformat_minor": 0,
 "worksheets": [
  {
   "cells": [
    {
     "cell_type": "code",
     "collapsed": false,
     "input": [
      "import os\n",
      "\n",
      "apikey = os.environ['GANDI_API_KEY']\n",
      "if not apikey:\n",
      "    raise \"api key NOT available\""
     ],
     "language": "python",
     "metadata": {},
     "outputs": [],
     "prompt_number": 2
    },
    {
     "cell_type": "code",
     "collapsed": false,
     "input": [
      "import xmlrpc.client as rpc\n",
      "#api = rpc.ServerProxy('https://rpc.gandi.net/xmlrpc/')\n",
      "api = rpc.ServerProxy('https://rpc.ote.gandi.net/xmlrpc/')\n",
      "api.version.info(apikey)\n"
     ],
     "language": "python",
     "metadata": {},
     "outputs": [
      {
       "metadata": {},
       "output_type": "pyout",
       "prompt_number": 3,
       "text": [
        "{'api_version': '3.3.24'}"
       ]
      }
     ],
     "prompt_number": 3
    },
    {
     "cell_type": "code",
     "collapsed": false,
     "input": [
      "def gandi_record_to_ghdns(record):\n",
      "    return { 'name': record['name'],\n",
      "             'type': record['type'],\n",
      "             'value': record['value'],\n",
      "             'ttl': record['ttl'],\n",
      "           }"
     ],
     "language": "python",
     "metadata": {},
     "outputs": [],
     "prompt_number": 11
    },
    {
     "cell_type": "code",
     "collapsed": false,
     "input": [
      "import yaml\n",
      "\n",
      "def init_zone_files(rpc, apikey, basedir):\n",
      "    os.makedirs(os.path.join(basedir, \"zones\"))\n",
      "    \n",
      "    zones = rpc.domain.zone.list(apikey)\n",
      "    for zone in zones:\n",
      "        if not zone['public']:\n",
      "            zone_id = zone['id']\n",
      "            name = zone['name']\n",
      "            records = rpc.domain.zone.record.list(apikey, zone_id, zone['version'])\n",
      "            records = [ gandi_record_to_ghdns(r) for r in records]\n",
      "            filename = \"zones/%s.yml\" % name\n",
      "            with open(filename, \"w\") as f:\n",
      "                f.write(yaml.dump(records, default_flow_style=False))\n",
      "            print(\"Wrote out zone file: \", filename)\n",
      "        "
     ],
     "language": "python",
     "metadata": {},
     "outputs": [],
     "prompt_number": 23
    }
   ],
   "metadata": {}
  }
 ]
}